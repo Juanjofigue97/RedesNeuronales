{
  "nbformat": 4,
  "nbformat_minor": 0,
  "metadata": {
    "accelerator": "GPU",
    "colab": {
      "name": "Tarea Redes Neuronales Convolucionales.ipynb",
      "provenance": [],
      "collapsed_sections": [],
      "toc_visible": true
    },
    "kernelspec": {
      "display_name": "Python 3",
      "name": "python3"
    }
  },
  "cells": [
    {
      "cell_type": "markdown",
      "metadata": {
        "id": "VsoG0tD8vVIi"
      },
      "source": [
        "#**Redes Neuronales Convulocioanes**#"
      ]
    },
    {
      "cell_type": "markdown",
      "metadata": {
        "id": "-W4pdcHU5Djr"
      },
      "source": [
        "#Importar los Datos"
      ]
    },
    {
      "cell_type": "code",
      "metadata": {
        "colab": {
          "base_uri": "https://localhost:8080/"
        },
        "id": "MmS35K1cyxeG",
        "outputId": "d3a1ef70-b301-4fc3-a3c1-cbedbd16fd37"
      },
      "source": [
        "from google.colab import drive\r\n",
        "drive.mount('/content/drive')"
      ],
      "execution_count": null,
      "outputs": [
        {
          "output_type": "stream",
          "text": [
            "Mounted at /content/drive\n"
          ],
          "name": "stdout"
        }
      ]
    },
    {
      "cell_type": "markdown",
      "metadata": {
        "id": "C032WMe-jtWP"
      },
      "source": [
        "#Importar librerias"
      ]
    },
    {
      "cell_type": "code",
      "metadata": {
        "id": "47Ljw_VAu4TZ"
      },
      "source": [
        "import os\r\n",
        "import cv2\r\n",
        "import numpy as np\r\n",
        "import tensorflow as tf\r\n",
        "from tensorflow.keras import datasets,layers,models\r\n",
        "import matplotlib.pyplot as plt\r\n",
        "plt.style.use('seaborn')"
      ],
      "execution_count": null,
      "outputs": []
    },
    {
      "cell_type": "markdown",
      "metadata": {
        "id": "AGeRxgPZj0ML"
      },
      "source": [
        "# Subir los archivos"
      ]
    },
    {
      "cell_type": "code",
      "metadata": {
        "id": "lKjI8G_SjyVP"
      },
      "source": [
        "test = \"/content/drive/MyDrive/64x64_SIGNS/test_signs\"\r\n",
        "train = \"/content/drive/MyDrive/64x64_SIGNS/train_signs\"\r\n",
        "val = \"/content/drive/MyDrive/64x64_SIGNS/val_signs\"\r\n",
        "manos_test=[]\r\n",
        "manos_train=[]\r\n",
        "manos_val=[]\r\n",
        "img_size=64\r\n",
        "label = []\r\n",
        "train_labels = []\r\n",
        "label_test = []"
      ],
      "execution_count": null,
      "outputs": []
    },
    {
      "cell_type": "code",
      "metadata": {
        "id": "kM8QlQ6iu626"
      },
      "source": [
        "# Guardamos las imagenes de entrenamiento con su respectivo nombre\r\n",
        "for img in os.listdir(train):\r\n",
        "  img = cv2.imread(os.path.join(train,img))\r\n",
        "  img_RGB = cv2.cvtColor(img,cv2.COLOR_BGR2RGB)\r\n",
        "  img_resize = cv2.resize(img_RGB,(img_size,img_size))\r\n",
        "  manos_train.append([img_resize])\r\n",
        "  train_labels = os.listdir(train)"
      ],
      "execution_count": null,
      "outputs": []
    },
    {
      "cell_type": "code",
      "metadata": {
        "id": "nlpchVK1K5bg"
      },
      "source": [
        "# Guardamos las imagenes de prueba con su respectivo nombre\r\n",
        "for img in os.listdir(test):\r\n",
        "  img = cv2.imread(os.path.join(test,img))\r\n",
        "  img_RGB = cv2.cvtColor(img,cv2.COLOR_BGR2RGB)\r\n",
        "  img_resize = cv2.resize(img_RGB,(img_size,img_size))\r\n",
        "  manos_test.append([img_resize])\r\n",
        "  label_test = os.listdir(test)"
      ],
      "execution_count": null,
      "outputs": []
    },
    {
      "cell_type": "markdown",
      "metadata": {
        "id": "dZiesdBEkxO6"
      },
      "source": [
        "# Tratamiento de Datos"
      ]
    },
    {
      "cell_type": "code",
      "metadata": {
        "colab": {
          "base_uri": "https://localhost:8080/"
        },
        "id": "sG8tL4kku9ej",
        "outputId": "7882fba8-0573-4eb9-88d5-9e72e8f898ec"
      },
      "source": [
        "manos_train = np.array(manos_train)\r\n",
        "manos_train.shape"
      ],
      "execution_count": null,
      "outputs": [
        {
          "output_type": "execute_result",
          "data": {
            "text/plain": [
              "(864, 1, 64, 64, 3)"
            ]
          },
          "metadata": {
            "tags": []
          },
          "execution_count": 6
        }
      ]
    },
    {
      "cell_type": "code",
      "metadata": {
        "colab": {
          "base_uri": "https://localhost:8080/"
        },
        "id": "okKNNKEzQEu-",
        "outputId": "5253b410-76af-4d7f-eecc-c08927937d7c"
      },
      "source": [
        "manos_train = manos_train.reshape(864,64,64,3)\r\n",
        "manos_train.shape\r\n"
      ],
      "execution_count": null,
      "outputs": [
        {
          "output_type": "execute_result",
          "data": {
            "text/plain": [
              "(864, 64, 64, 3)"
            ]
          },
          "metadata": {
            "tags": []
          },
          "execution_count": 7
        }
      ]
    },
    {
      "cell_type": "code",
      "metadata": {
        "colab": {
          "base_uri": "https://localhost:8080/"
        },
        "id": "0iofSpQ9T5co",
        "outputId": "3b93d9e2-f94e-4bdf-9555-63ccbbd3cb41"
      },
      "source": [
        "manos_test = np.array(manos_test)\r\n",
        "manos_test = manos_test.reshape(120,64,64,3)\r\n",
        "manos_test.shape"
      ],
      "execution_count": null,
      "outputs": [
        {
          "output_type": "execute_result",
          "data": {
            "text/plain": [
              "(120, 64, 64, 3)"
            ]
          },
          "metadata": {
            "tags": []
          },
          "execution_count": 8
        }
      ]
    },
    {
      "cell_type": "code",
      "metadata": {
        "id": "5stfRLcqURE8"
      },
      "source": [
        "manos_test = manos_test/255\r\n",
        "manos_train = manos_train/255 "
      ],
      "execution_count": null,
      "outputs": []
    },
    {
      "cell_type": "code",
      "metadata": {
        "id": "IysU8D-iNo6F"
      },
      "source": [
        "train_labels2 = []\r\n",
        "for i in range(len(train_labels)):\r\n",
        "  x = str((train_labels[i])[0])\r\n",
        "  x = np.array(x).astype('uint8')\r\n",
        "  train_labels2.append(x)"
      ],
      "execution_count": null,
      "outputs": []
    },
    {
      "cell_type": "code",
      "metadata": {
        "id": "nht6pLKQXO06"
      },
      "source": [
        "train_labels2 = np.array(train_labels2)"
      ],
      "execution_count": null,
      "outputs": []
    },
    {
      "cell_type": "code",
      "metadata": {
        "id": "X4Pgw-PQezUY"
      },
      "source": [
        "label_test2 = []\r\n",
        "for i in range(len(label_test)):\r\n",
        "  x = str((label_test[i])[0])\r\n",
        "  x = np.array(x).astype('uint8')\r\n",
        "  label_test2.append(x)"
      ],
      "execution_count": null,
      "outputs": []
    },
    {
      "cell_type": "code",
      "metadata": {
        "id": "M7GpGTRqfGyG"
      },
      "source": [
        "label_test2 = np.array(label_test2)"
      ],
      "execution_count": null,
      "outputs": []
    },
    {
      "cell_type": "markdown",
      "metadata": {
        "id": "eVs3bp-7kaBF"
      },
      "source": [
        "# Prueba de los archivos"
      ]
    },
    {
      "cell_type": "code",
      "metadata": {
        "colab": {
          "base_uri": "https://localhost:8080/",
          "height": 362
        },
        "id": "908Zj_yoQjWm",
        "outputId": "e4204e6f-c68b-4f7a-923c-dae2f58c0d63"
      },
      "source": [
        "indice = 100\r\n",
        "plt.title(str(train_labels[indice])[0])\r\n",
        "plt.imshow(manos_train[indice,:,:,:])\r\n",
        "plt.show()"
      ],
      "execution_count": null,
      "outputs": [
        {
          "output_type": "display_data",
          "data": {
            "image/png": "[encoded data removed]",
            "text/plain": [
              "<Figure size 576x396 with 1 Axes>"
            ]
          },
          "metadata": {
            "tags": []
          }
        }
      ]
    },
    {
      "cell_type": "markdown",
      "metadata": {
        "id": "y2egitWgo8sq"
      },
      "source": [
        "## Crear red neuronal"
      ]
    },
    {
      "cell_type": "code",
      "metadata": {
        "id": "j5gOwiVYo5Uo"
      },
      "source": [
        "model = models.Sequential([],name= 'LaPoderosa')"
      ],
      "execution_count": null,
      "outputs": []
    },
    {
      "cell_type": "code",
      "metadata": {
        "id": "IVbzFtfQoJvR"
      },
      "source": [
        "model.add(layers.Conv2D(filters=32,kernel_size=(3,3),activation='relu',input_shape=(64,64,3)))\r\n",
        "model.add(layers.MaxPool2D((2,2)))"
      ],
      "execution_count": null,
      "outputs": []
    },
    {
      "cell_type": "code",
      "metadata": {
        "colab": {
          "base_uri": "https://localhost:8080/"
        },
        "id": "FNzPPm9Ro_vt",
        "outputId": "dbae6a75-2747-4388-eba6-748fd98d7377"
      },
      "source": [
        "model.summary()"
      ],
      "execution_count": null,
      "outputs": [
        {
          "output_type": "stream",
          "text": [
            "Model: \"LaPoderosa\"\n",
            "_________________________________________________________________\n",
            "Layer (type)                 Output Shape              Param #   \n",
            "=================================================================\n",
            "conv2d (Conv2D)              (None, 62, 62, 32)        896       \n",
            "_________________________________________________________________\n",
            "max_pooling2d (MaxPooling2D) (None, 31, 31, 32)        0         \n",
            "=================================================================\n",
            "Total params: 896\n",
            "Trainable params: 896\n",
            "Non-trainable params: 0\n",
            "_________________________________________________________________\n"
          ],
          "name": "stdout"
        }
      ]
    },
    {
      "cell_type": "code",
      "metadata": {
        "id": "iG7wNOoeqQFE"
      },
      "source": [
        "model.add(layers.Conv2D(64,(3,3),activation='relu'))\r\n",
        "model.add(layers.MaxPool2D((2,2)))\r\n",
        "model.add(layers.Conv2D(64,(3,3),activation='relu'))\r\n",
        "model.add(layers.MaxPool2D((2,2)))\r\n",
        "model.add(layers.Conv2D(64,(3,3),activation='relu'))\r\n",
        "model.add(layers.MaxPool2D((2,2)))"
      ],
      "execution_count": null,
      "outputs": []
    },
    {
      "cell_type": "code",
      "metadata": {
        "colab": {
          "base_uri": "https://localhost:8080/"
        },
        "id": "S7ndaKe2q5fC",
        "outputId": "12103029-7918-4b20-f275-4c71aa6e73ed"
      },
      "source": [
        "model.summary()"
      ],
      "execution_count": null,
      "outputs": [
        {
          "output_type": "stream",
          "text": [
            "Model: \"LaPoderosa\"\n",
            "_________________________________________________________________\n",
            "Layer (type)                 Output Shape              Param #   \n",
            "=================================================================\n",
            "conv2d (Conv2D)              (None, 62, 62, 32)        896       \n",
            "_________________________________________________________________\n",
            "max_pooling2d (MaxPooling2D) (None, 31, 31, 32)        0         \n",
            "_________________________________________________________________\n",
            "conv2d_1 (Conv2D)            (None, 29, 29, 64)        18496     \n",
            "_________________________________________________________________\n",
            "max_pooling2d_1 (MaxPooling2 (None, 14, 14, 64)        0         \n",
            "_________________________________________________________________\n",
            "conv2d_2 (Conv2D)            (None, 12, 12, 64)        36928     \n",
            "_________________________________________________________________\n",
            "max_pooling2d_2 (MaxPooling2 (None, 6, 6, 64)          0         \n",
            "_________________________________________________________________\n",
            "conv2d_3 (Conv2D)            (None, 4, 4, 64)          36928     \n",
            "_________________________________________________________________\n",
            "max_pooling2d_3 (MaxPooling2 (None, 2, 2, 64)          0         \n",
            "=================================================================\n",
            "Total params: 93,248\n",
            "Trainable params: 93,248\n",
            "Non-trainable params: 0\n",
            "_________________________________________________________________\n"
          ],
          "name": "stdout"
        }
      ]
    },
    {
      "cell_type": "code",
      "metadata": {
        "id": "nAHyNduCtOsR"
      },
      "source": [
        "model.add(layers.Flatten())"
      ],
      "execution_count": null,
      "outputs": []
    },
    {
      "cell_type": "code",
      "metadata": {
        "colab": {
          "base_uri": "https://localhost:8080/"
        },
        "id": "rFWYcWuizJUc",
        "outputId": "bd64e8d5-5bc1-4c6d-ca66-b0025461690e"
      },
      "source": [
        "model.summary()"
      ],
      "execution_count": null,
      "outputs": [
        {
          "output_type": "stream",
          "text": [
            "Model: \"LaPoderosa\"\n",
            "_________________________________________________________________\n",
            "Layer (type)                 Output Shape              Param #   \n",
            "=================================================================\n",
            "conv2d (Conv2D)              (None, 62, 62, 32)        896       \n",
            "_________________________________________________________________\n",
            "max_pooling2d (MaxPooling2D) (None, 31, 31, 32)        0         \n",
            "_________________________________________________________________\n",
            "conv2d_1 (Conv2D)            (None, 29, 29, 64)        18496     \n",
            "_________________________________________________________________\n",
            "max_pooling2d_1 (MaxPooling2 (None, 14, 14, 64)        0         \n",
            "_________________________________________________________________\n",
            "conv2d_2 (Conv2D)            (None, 12, 12, 64)        36928     \n",
            "_________________________________________________________________\n",
            "max_pooling2d_2 (MaxPooling2 (None, 6, 6, 64)          0         \n",
            "_________________________________________________________________\n",
            "conv2d_3 (Conv2D)            (None, 4, 4, 64)          36928     \n",
            "_________________________________________________________________\n",
            "max_pooling2d_3 (MaxPooling2 (None, 2, 2, 64)          0         \n",
            "_________________________________________________________________\n",
            "flatten (Flatten)            (None, 256)               0         \n",
            "=================================================================\n",
            "Total params: 93,248\n",
            "Trainable params: 93,248\n",
            "Non-trainable params: 0\n",
            "_________________________________________________________________\n"
          ],
          "name": "stdout"
        }
      ]
    },
    {
      "cell_type": "code",
      "metadata": {
        "id": "3nGkaewvzJOE"
      },
      "source": [
        "model.add(layers.Dense(64,activation='relu'))\r\n",
        "model.add(layers.Dense(10))"
      ],
      "execution_count": null,
      "outputs": []
    },
    {
      "cell_type": "code",
      "metadata": {
        "id": "GbFRpv12zrEL"
      },
      "source": [
        "model.compile(optimizer='adam',loss=tf.keras.losses.SparseCategoricalCrossentropy(from_logits=True),\r\n",
        "              metrics=['accuracy'])"
      ],
      "execution_count": null,
      "outputs": []
    },
    {
      "cell_type": "code",
      "metadata": {
        "colab": {
          "base_uri": "https://localhost:8080/"
        },
        "id": "AJuF9nd40N2S",
        "outputId": "6b89a1d4-47d2-4df3-9cbd-d3a57a8d7559"
      },
      "source": [
        "history = model.fit(manos_train,train_labels2,epochs = 10)"
      ],
      "execution_count": null,
      "outputs": [
        {
          "output_type": "stream",
          "text": [
            "Epoch 1/10\n",
            "27/27 [==============================] - 7s 6ms/step - loss: 2.0146 - accuracy: 0.1376\n",
            "Epoch 2/10\n",
            "27/27 [==============================] - 0s 5ms/step - loss: 1.7930 - accuracy: 0.1945\n",
            "Epoch 3/10\n",
            "27/27 [==============================] - 0s 5ms/step - loss: 1.7587 - accuracy: 0.2592\n",
            "Epoch 4/10\n",
            "27/27 [==============================] - 0s 5ms/step - loss: 1.6233 - accuracy: 0.3321\n",
            "Epoch 5/10\n",
            "27/27 [==============================] - 0s 4ms/step - loss: 1.3579 - accuracy: 0.4663\n",
            "Epoch 6/10\n",
            "27/27 [==============================] - 0s 5ms/step - loss: 1.1775 - accuracy: 0.5146\n",
            "Epoch 7/10\n",
            "27/27 [==============================] - 0s 5ms/step - loss: 0.8427 - accuracy: 0.7054\n",
            "Epoch 8/10\n",
            "27/27 [==============================] - 0s 5ms/step - loss: 0.7903 - accuracy: 0.7183\n",
            "Epoch 9/10\n",
            "27/27 [==============================] - 0s 5ms/step - loss: 0.6079 - accuracy: 0.7951\n",
            "Epoch 10/10\n",
            "27/27 [==============================] - 0s 4ms/step - loss: 0.5142 - accuracy: 0.8253\n"
          ],
          "name": "stdout"
        }
      ]
    },
    {
      "cell_type": "markdown",
      "metadata": {
        "id": "BoOXLRxHc_z0"
      },
      "source": [
        "#Evaluar Exactitud#"
      ]
    },
    {
      "cell_type": "code",
      "metadata": {
        "colab": {
          "base_uri": "https://localhost:8080/"
        },
        "id": "4iikrVM1c2zz",
        "outputId": "793e920f-6626-4c8d-ec88-510f82b95e83"
      },
      "source": [
        "test_loss, test_acc = model.evaluate(manos_test,label_test2, verbose=2)\r\n",
        "\r\n",
        "print('\\nTest accuracy:', test_acc)"
      ],
      "execution_count": null,
      "outputs": [
        {
          "output_type": "stream",
          "text": [
            "4/4 - 0s - loss: 0.5308 - accuracy: 0.8167\n",
            "\n",
            "Test accuracy: 0.8166666626930237\n"
          ],
          "name": "stdout"
        }
      ]
    },
    {
      "cell_type": "code",
      "metadata": {
        "colab": {
          "base_uri": "https://localhost:8080/",
          "height": 375
        },
        "id": "BVODk_DcjU-l",
        "outputId": "80da2e80-5f9a-4dac-c138-65cac974152e"
      },
      "source": [
        "plt.plot(history.history['accuracy'],label='accuracy')\r\n",
        "plt.title('LaPoderosa')\r\n",
        "plt.xlabel('Epochs')\r\n",
        "plt.ylabel('Accuracy')\r\n",
        "plt.legend()\r\n",
        "plt.savefig(\"LaPoderosa.png\",dpi=400)\r\n",
        "plt.show()"
      ],
      "execution_count": null,
      "outputs": [
        {
          "output_type": "display_data",
          "data": {
            "image/png": "[encoded data removed]",
            "text/plain": [
              "<Figure size 576x396 with 1 Axes>"
            ]
          },
          "metadata": {
            "tags": []
          }
        }
      ]
    },
    {
      "cell_type": "code",
      "metadata": {
        "id": "RegjcvCdltqC"
      },
      "source": [
        "predicciones = model.predict(manos_test)"
      ],
      "execution_count": null,
      "outputs": []
    },
    {
      "cell_type": "code",
      "metadata": {
        "colab": {
          "base_uri": "https://localhost:8080/"
        },
        "id": "6WWnn-fmlwc_",
        "outputId": "13b1ebcd-96bf-4104-f9d5-4d7cc42a9cbd"
      },
      "source": [
        "predicciones.shape"
      ],
      "execution_count": null,
      "outputs": [
        {
          "output_type": "execute_result",
          "data": {
            "text/plain": [
              "(120, 10)"
            ]
          },
          "metadata": {
            "tags": []
          },
          "execution_count": 28
        }
      ]
    },
    {
      "cell_type": "code",
      "metadata": {
        "id": "5SlhPzOXmFjG"
      },
      "source": [
        "xPrueba = manos_test"
      ],
      "execution_count": null,
      "outputs": []
    },
    {
      "cell_type": "code",
      "metadata": {
        "colab": {
          "base_uri": "https://localhost:8080/",
          "height": 366
        },
        "id": "5Da-2aIXmRWd",
        "outputId": "fc565cf1-73e7-4b8a-ac61-08798c1e8362"
      },
      "source": [
        "plt.imshow(xPrueba[0,:,:],cmap='gray')"
      ],
      "execution_count": null,
      "outputs": [
        {
          "output_type": "execute_result",
          "data": {
            "text/plain": [
              "<matplotlib.image.AxesImage at 0x7ff630029eb8>"
            ]
          },
          "metadata": {
            "tags": []
          },
          "execution_count": 30
        },
        {
          "output_type": "display_data",
          "data": {
            "image/png": "[encoded data removed]",
            "text/plain": [
              "<Figure size 576x396 with 1 Axes>"
            ]
          },
          "metadata": {
            "tags": []
          }
        }
      ]
    },
    {
      "cell_type": "code",
      "metadata": {
        "colab": {
          "base_uri": "https://localhost:8080/",
          "height": 366
        },
        "id": "rxvNZBoImT4y",
        "outputId": "054b7921-1f91-428a-b62f-0c21e49dacf0"
      },
      "source": [
        "import random\r\n",
        "indice = random.randint(0,119)\r\n",
        "ejemplo = xPrueba[indice,:,:]\r\n",
        "pred_ejemplo = predicciones[indice]\r\n",
        "\r\n",
        "plt.imshow(ejemplo,cmap='gray')\r\n",
        "print('El numero es:',pred_ejemplo.argmax())"
      ],
      "execution_count": null,
      "outputs": [
        {
          "output_type": "stream",
          "text": [
            "El numero es: 3\n"
          ],
          "name": "stdout"
        },
        {
          "output_type": "display_data",
          "data": {
            "image/png": "[encoded data removed]",
            "text/plain": [
              "<Figure size 576x396 with 1 Axes>"
            ]
          },
          "metadata": {
            "tags": []
          }
        }
      ]
    },
    {
      "cell_type": "markdown",
      "metadata": {
        "id": "YRkh_BRMHxbW"
      },
      "source": [
        "##RED NEURONAL 2.0\r\n"
      ]
    },
    {
      "cell_type": "code",
      "metadata": {
        "id": "WCa9_iU0H072"
      },
      "source": [
        "model2 = models.Sequential([],name='SOYLEYENDA')"
      ],
      "execution_count": null,
      "outputs": []
    },
    {
      "cell_type": "code",
      "metadata": {
        "id": "rmwM2k6LH-1i"
      },
      "source": [
        "model2.add(layers.Conv2D(filters=128,kernel_size=(3,3),activation='relu',input_shape=(64,64,3),padding='same'))\r\n",
        "model2.add(layers.MaxPool2D((2,2)))"
      ],
      "execution_count": null,
      "outputs": []
    },
    {
      "cell_type": "code",
      "metadata": {
        "id": "Rk6OAIQMIEPA"
      },
      "source": [
        "model2.add(layers.Flatten())"
      ],
      "execution_count": null,
      "outputs": []
    },
    {
      "cell_type": "code",
      "metadata": {
        "id": "qKLeNuG3IK7t"
      },
      "source": [
        "model2.add(layers.Dense(32,activation='relu'))\r\n",
        "model2.add(layers.Dense(10))"
      ],
      "execution_count": null,
      "outputs": []
    },
    {
      "cell_type": "code",
      "metadata": {
        "id": "2WBy-OiNISRT"
      },
      "source": [
        "model2.compile(optimizer='adam',loss=tf.keras.losses.SparseCategoricalCrossentropy(from_logits=True),\r\n",
        "              metrics=['accuracy'])"
      ],
      "execution_count": null,
      "outputs": []
    },
    {
      "cell_type": "code",
      "metadata": {
        "colab": {
          "base_uri": "https://localhost:8080/"
        },
        "id": "FfCQrHk9guPS",
        "outputId": "894a630c-a705-4bf6-8f3f-40319312b08f"
      },
      "source": [
        "model2.summary()"
      ],
      "execution_count": null,
      "outputs": [
        {
          "output_type": "stream",
          "text": [
            "Model: \"SOYLEYENDA\"\n",
            "_________________________________________________________________\n",
            "Layer (type)                 Output Shape              Param #   \n",
            "=================================================================\n",
            "conv2d_6 (Conv2D)            (None, 64, 64, 128)       3584      \n",
            "_________________________________________________________________\n",
            "max_pooling2d_6 (MaxPooling2 (None, 32, 32, 128)       0         \n",
            "_________________________________________________________________\n",
            "flatten_3 (Flatten)          (None, 131072)            0         \n",
            "_________________________________________________________________\n",
            "dense_6 (Dense)              (None, 32)                4194336   \n",
            "_________________________________________________________________\n",
            "dense_7 (Dense)              (None, 10)                330       \n",
            "=================================================================\n",
            "Total params: 4,198,250\n",
            "Trainable params: 4,198,250\n",
            "Non-trainable params: 0\n",
            "_________________________________________________________________\n"
          ],
          "name": "stdout"
        }
      ]
    },
    {
      "cell_type": "code",
      "metadata": {
        "colab": {
          "base_uri": "https://localhost:8080/"
        },
        "id": "VQ-gB7TlIXY5",
        "outputId": "778e383d-f9a8-4102-f2ab-49410bcfafee"
      },
      "source": [
        "history2 = model2.fit(manos_train,train_labels2,epochs = 10)"
      ],
      "execution_count": null,
      "outputs": [
        {
          "output_type": "stream",
          "text": [
            "Epoch 1/10\n",
            "27/27 [==============================] - 1s 9ms/step - loss: 2.7505 - accuracy: 0.1772\n",
            "Epoch 2/10\n",
            "27/27 [==============================] - 0s 7ms/step - loss: 1.8506 - accuracy: 0.2196\n",
            "Epoch 3/10\n",
            "27/27 [==============================] - 0s 7ms/step - loss: 1.7391 - accuracy: 0.2316\n",
            "Epoch 4/10\n",
            "27/27 [==============================] - 0s 7ms/step - loss: 1.6287 - accuracy: 0.3214\n",
            "Epoch 5/10\n",
            "27/27 [==============================] - 0s 7ms/step - loss: 1.4562 - accuracy: 0.4497\n",
            "Epoch 6/10\n",
            "27/27 [==============================] - 0s 7ms/step - loss: 1.3016 - accuracy: 0.4683\n",
            "Epoch 7/10\n",
            "27/27 [==============================] - 0s 7ms/step - loss: 1.1545 - accuracy: 0.5541\n",
            "Epoch 8/10\n",
            "27/27 [==============================] - 0s 7ms/step - loss: 1.1098 - accuracy: 0.5998\n",
            "Epoch 9/10\n",
            "27/27 [==============================] - 0s 7ms/step - loss: 1.1600 - accuracy: 0.5643\n",
            "Epoch 10/10\n",
            "27/27 [==============================] - 0s 7ms/step - loss: 0.9853 - accuracy: 0.6297\n"
          ],
          "name": "stdout"
        }
      ]
    },
    {
      "cell_type": "markdown",
      "metadata": {
        "id": "4X3s1Yl-Ia8c"
      },
      "source": [
        "##Evaluar Exactitud de los dos modelos:)"
      ]
    },
    {
      "cell_type": "code",
      "metadata": {
        "colab": {
          "base_uri": "https://localhost:8080/"
        },
        "id": "DsD5VZ8LIfbV",
        "outputId": "746cc5fa-07c0-4e04-c93b-c733871af849"
      },
      "source": [
        "test_loss, test_acc = model2.evaluate(manos_test,label_test2, verbose=2)\r\n",
        "\r\n",
        "print('\\nTest accuracy:', test_acc)"
      ],
      "execution_count": null,
      "outputs": [
        {
          "output_type": "stream",
          "text": [
            "4/4 - 0s - loss: 1.1137 - accuracy: 0.5750\n",
            "\n",
            "Test accuracy: 0.574999988079071\n"
          ],
          "name": "stdout"
        }
      ]
    },
    {
      "cell_type": "code",
      "metadata": {
        "colab": {
          "base_uri": "https://localhost:8080/",
          "height": 375
        },
        "id": "7igNYfqoIi6t",
        "outputId": "b837d20f-2610-45a1-8942-031184ce67c1"
      },
      "source": [
        "plt.plot(history2.history['accuracy'],label='accuracy')\r\n",
        "plt.title('SOYLEYENDA')\r\n",
        "plt.xlabel('Epochs')\r\n",
        "plt.ylabel('Accuracy')\r\n",
        "plt.legend()\r\n",
        "plt.savefig(\"SOYLEYENDA.png\",dpi=300)\r\n",
        "plt.show()"
      ],
      "execution_count": null,
      "outputs": [
        {
          "output_type": "display_data",
          "data": {
            "image/png": "[encoded data removed]",
            "text/plain": [
              "<Figure size 576x396 with 1 Axes>"
            ]
          },
          "metadata": {
            "tags": []
          }
        }
      ]
    },
    {
      "cell_type": "code",
      "metadata": {
        "id": "Ida7YUWmIqXO"
      },
      "source": [
        "predicciones2 = model2.predict(manos_test)"
      ],
      "execution_count": null,
      "outputs": []
    },
    {
      "cell_type": "code",
      "metadata": {
        "colab": {
          "base_uri": "https://localhost:8080/",
          "height": 384
        },
        "id": "FmMkP0fQIwlk",
        "outputId": "16830fcd-4d70-4dbd-b5d4-a5942149b808"
      },
      "source": [
        "import random\r\n",
        "indice = random.randint(0,119)\r\n",
        "ejemplo = xPrueba[indice,:,:]\r\n",
        "pred_ejemplo = predicciones[indice]\r\n",
        "\r\n",
        "plt.imshow(ejemplo,cmap='gray')\r\n",
        "print('El numero con el modelo 1 es:',pred_ejemplo.argmax())\r\n",
        "\r\n",
        "pred_ejemplo2 = predicciones2[indice]\r\n",
        "print('El numero con el modelo 2 es:',pred_ejemplo2.argmax())"
      ],
      "execution_count": null,
      "outputs": [
        {
          "output_type": "stream",
          "text": [
            "El numero con el modelo 1 es: 5\n",
            "El numero con el modelo 2 es: 5\n"
          ],
          "name": "stdout"
        },
        {
          "output_type": "display_data",
          "data": {
            "image/png": "[encoded data removed]",
            "text/plain": [
              "<Figure size 576x396 with 1 Axes>"
            ]
          },
          "metadata": {
            "tags": []
          }
        }
      ]
    },
    {
      "cell_type": "markdown",
      "metadata": {
        "id": "Kz6SxpY0tmm1"
      },
      "source": [
        "#Comparación LaPoderosa vs SOYLEYENDA#"
      ]
    },
    {
      "cell_type": "code",
      "metadata": {
        "colab": {
          "base_uri": "https://localhost:8080/",
          "height": 375
        },
        "id": "urkOlaRl6Vv_",
        "outputId": "2c09111a-4257-4da4-aad3-7d1a68486493"
      },
      "source": [
        "plt.plot(history.history['accuracy'],label='accuracy LaPoderosa')\r\n",
        "plt.plot(history2.history['accuracy'],label='accuracy SOYLEYENDA')\r\n",
        "plt.title('LaPoderosa vs SOYLEYENDA')\r\n",
        "plt.xlabel('Epochs')\r\n",
        "plt.ylabel('Accuracy')\r\n",
        "plt.legend()\r\n",
        "plt.savefig(\"versus.png\")\r\n",
        "plt.show()"
      ],
      "execution_count": null,
      "outputs": [
        {
          "output_type": "display_data",
          "data": {
            "image/png": "[encoded data removed]",
            "text/plain": [
              "<Figure size 576x396 with 1 Axes>"
            ]
          },
          "metadata": {
            "tags": []
          }
        }
      ]
    }
  ]
}